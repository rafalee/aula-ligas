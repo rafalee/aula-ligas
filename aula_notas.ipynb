{
 "cells": [
  {
   "cell_type": "code",
   "execution_count": null,
   "metadata": {},
   "outputs": [],
   "source": [
    "# Problema: Como pegar os dados históricos diários das ações da B3 e estruturar os dados para efetuar uma análise?\n",
    "# http://www.b3.com.br/pt_br/market-data-e-indices/servicos-de-dados/market-data/historico/mercado-a-vista/series-historicas/"
   ]
  },
  {
   "cell_type": "code",
   "execution_count": null,
   "metadata": {},
   "outputs": [],
   "source": [
    "# Como baixar os arquivos programaticamente?\n",
    "url = 'http://bvmf.bmfbovespa.com.br/InstDados/SerHist/COTAHIST_A2020.ZIP'\n",
    "\n",
    "from urllib.request import urlretrieve\n",
    "\n",
    "zip_path = \"data/2020.zip\"\n",
    "\n",
    "urlretrieve(url, filename=zip_path)"
   ]
  },
  {
   "cell_type": "code",
   "execution_count": null,
   "metadata": {},
   "outputs": [],
   "source": [
    "# Como descompactar o arquivo?\n",
    "import zipfile\n",
    "\n",
    "with zipfile.ZipFile(zip_path, 'r') as zfile:\n",
    "    zfile.extractall('data/extracted')\n"
   ]
  },
  {
   "cell_type": "code",
   "execution_count": null,
   "metadata": {},
   "outputs": [],
   "source": [
    "# Como interpretar o arquivo e colocar ele em uma estrutura de dados mais apropriada para manipulação?"
   ]
  },
  {
   "cell_type": "code",
   "execution_count": null,
   "metadata": {},
   "outputs": [],
   "source": [
    "line = \"012020010202AALR3       010ALLIAR      ON      NM   R$  000000000182900000000019000000000001828000000000186800000000019000000000001899000000000190102443000000000000585800000000001094619600000000000000009999123100000010000000000000BRAALRACNOR6101\""
   ]
  },
  {
   "cell_type": "code",
   "execution_count": null,
   "metadata": {},
   "outputs": [],
   "source": [
    "dado = {\n",
    "    'date': line[2:10],\n",
    "    'code': line[12:23].strip(),\n",
    "    'name': line[27:38].strip(),\n",
    "    'open': line[56:69].strip(),\n",
    "    'high': line[69:82].strip(),\n",
    "    'low':  line[82:95].strip(),\n",
    "    'close': line[108:121].strip(),\n",
    "    'volume': line[170:188].strip()\n",
    "}"
   ]
  },
  {
   "cell_type": "code",
   "execution_count": null,
   "metadata": {},
   "outputs": [],
   "source": [
    "dado[\"open\"] = float(f\"{dado['open'][:-2]}.{dado['open'][-2:]}\")\n",
    "dado[\"high\"] = float(f\"{dado['high'][:-2]}.{dado['high'][-2:]}\")\n",
    "dado[\"low\"] = float(f\"{dado['low'][:-2]}.{dado['low'][-2:]}\")\n",
    "dado[\"close\"] = float(f\"{dado['close'][:-2]}.{dado['close'][-2:]}\")\n",
    "dado[\"volume\"] = float(f\"{dado['volume'][:-2]}.{dado['volume'][-2:]}\")"
   ]
  },
  {
   "cell_type": "code",
   "execution_count": null,
   "metadata": {},
   "outputs": [],
   "source": [
    "dado"
   ]
  },
  {
   "cell_type": "code",
   "execution_count": null,
   "metadata": {},
   "outputs": [],
   "source": [
    "path = \"data/extracted/COTAHIST_A2020.TXT\""
   ]
  },
  {
   "cell_type": "code",
   "execution_count": null,
   "metadata": {},
   "outputs": [],
   "source": [
    "data = []\n",
    "\n",
    "with open(path, 'r') as file:\n",
    "    for line in file.readlines()[1:-1]:\n",
    "        dado = {\n",
    "            'date': line[2:10],\n",
    "            'code': line[12:23].strip(),\n",
    "            'name': line[27:38].strip(),\n",
    "            'open': line[56:69].strip(),\n",
    "            'high': line[69:82].strip(),\n",
    "            'low':  line[82:95].strip(),\n",
    "            'close': line[108:121].strip(),\n",
    "            'volume': line[170:188].strip()\n",
    "        }\n",
    "        if dado[\"close\"] != \"\":\n",
    "            dado[\"open\"] = float(f\"{dado['open'][:-2]}.{dado['open'][-2:]}\")\n",
    "            dado[\"high\"] = float(f\"{dado['high'][:-2]}.{dado['high'][-2:]}\")\n",
    "            dado[\"low\"] = float(f\"{dado['low'][:-2]}.{dado['low'][-2:]}\")\n",
    "            dado[\"close\"] = float(f\"{dado['close'][:-2]}.{dado['close'][-2:]}\")\n",
    "            dado[\"volume\"] = float(f\"{dado['volume'][:-2]}.{dado['volume'][-2:]}\")\n",
    "        data.append(dado)\n"
   ]
  },
  {
   "cell_type": "code",
   "execution_count": null,
   "metadata": {},
   "outputs": [],
   "source": [
    "data[0][\"open\"]"
   ]
  },
  {
   "cell_type": "code",
   "execution_count": null,
   "metadata": {},
   "outputs": [],
   "source": []
  }
 ],
 "metadata": {
  "kernelspec": {
   "display_name": "Python 3",
   "language": "python",
   "name": "python3"
  },
  "language_info": {
   "codemirror_mode": {
    "name": "ipython",
    "version": 3
   },
   "file_extension": ".py",
   "mimetype": "text/x-python",
   "name": "python",
   "nbconvert_exporter": "python",
   "pygments_lexer": "ipython3",
   "version": "3.7.3"
  }
 },
 "nbformat": 4,
 "nbformat_minor": 4
}
